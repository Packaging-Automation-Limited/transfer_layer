{
  "nbformat": 4,
  "nbformat_minor": 0,
  "metadata": {
    "colab": {
      "provenance": []
    },
    "kernelspec": {
      "name": "python3",
      "display_name": "Python 3"
    },
    "language_info": {
      "name": "python"
    }
  },
  "cells": [
    {
      "cell_type": "code",
      "execution_count": 1,
      "metadata": {
        "colab": {
          "base_uri": "https://localhost:8080/"
        },
        "id": "tVqElKLefQtY",
        "outputId": "0fd93da8-8475-4ac2-a9f3-b1c2b2af1145"
      },
      "outputs": [
        {
          "output_type": "stream",
          "name": "stdout",
          "text": [
            "Looking in indexes: https://pypi.org/simple, https://us-python.pkg.dev/colab-wheels/public/simple/\n",
            "Collecting mysql-connector-python\n",
            "  Downloading mysql_connector_python-8.0.33-cp310-cp310-manylinux1_x86_64.whl (27.4 MB)\n",
            "\u001b[2K     \u001b[90m━━━━━━━━━━━━━━━━━━━━━━━━━━━━━━━━━━━━━━━━\u001b[0m \u001b[32m27.4/27.4 MB\u001b[0m \u001b[31m74.3 MB/s\u001b[0m eta \u001b[36m0:00:00\u001b[0m\n",
            "\u001b[?25hRequirement already satisfied: protobuf<=3.20.3,>=3.11.0 in /usr/local/lib/python3.10/dist-packages (from mysql-connector-python) (3.20.3)\n",
            "Installing collected packages: mysql-connector-python\n",
            "Successfully installed mysql-connector-python-8.0.33\n",
            "Looking in indexes: https://pypi.org/simple, https://us-python.pkg.dev/colab-wheels/public/simple/\n",
            "Requirement already satisfied: sqlalchemy in /usr/local/lib/python3.10/dist-packages (2.0.10)\n",
            "Requirement already satisfied: typing-extensions>=4.2.0 in /usr/local/lib/python3.10/dist-packages (from sqlalchemy) (4.5.0)\n",
            "Requirement already satisfied: greenlet!=0.4.17 in /usr/local/lib/python3.10/dist-packages (from sqlalchemy) (2.0.2)\n",
            "Looking in indexes: https://pypi.org/simple, https://us-python.pkg.dev/colab-wheels/public/simple/\n",
            "Collecting pymysql\n",
            "  Downloading PyMySQL-1.0.3-py3-none-any.whl (43 kB)\n",
            "\u001b[2K     \u001b[90m━━━━━━━━━━━━━━━━━━━━━━━━━━━━━━━━━━━━━━━━\u001b[0m \u001b[32m43.7/43.7 kB\u001b[0m \u001b[31m1.9 MB/s\u001b[0m eta \u001b[36m0:00:00\u001b[0m\n",
            "\u001b[?25hInstalling collected packages: pymysql\n",
            "Successfully installed pymysql-1.0.3\n"
          ]
        }
      ],
      "source": [
        "!pip install mysql-connector-python\n",
        "!pip install sqlalchemy\n",
        "!pip install pymysql"
      ]
    },
    {
      "cell_type": "code",
      "source": [
        "import pandas as pd\n",
        "import sqlalchemy\n",
        "import pymysql\n",
        "from datetime import datetime,timedelta"
      ],
      "metadata": {
        "id": "H-2hUTfAfbCA"
      },
      "execution_count": 6,
      "outputs": []
    },
    {
      "cell_type": "code",
      "source": [
        "yesterday_date = datetime.now() - timedelta(days=1)\n",
        "prev_date = yesterday_date.strftime(\"%Y:%m:%d\")+\" 00:00:00\"\n",
        "#print(prev_date)"
      ],
      "metadata": {
        "id": "7b8mEoAvasiw"
      },
      "execution_count": 12,
      "outputs": []
    },
    {
      "cell_type": "code",
      "source": [
        "username = \"pal-dev\"\n",
        "password = \"admin123\"\n",
        "endpoint = \"18.133.242.66\"\n",
        "source_index = 'mw-index-tasker'\n",
        "destination_index = 'mw-index-pal'\n",
        "\n",
        "\n",
        "db_name = \"miweigh_db\"\n",
        "#table_name = \"clients\"\n",
        "\n",
        "# create the connection string to connect to the RDS instance\n",
        "conn = pymysql.connect(host=endpoint, user=username,\n",
        "                       passwd=password, db=db_name)"
      ],
      "metadata": {
        "id": "6WW6IGSffi8k"
      },
      "execution_count": 3,
      "outputs": []
    },
    {
      "cell_type": "code",
      "source": [
        "query = f\"select distinct Op_Name from operators_performances where indexName = '{source_index}' AND date = '{prev_date}';\"\n",
        "op_names = pd.read_sql_query(query, conn)\n",
        "popular_names = [\n",
        "    \"Oliver\", \"Jack\", \"Harry\", \"George\", \"Noah\", \"Leo\", \"Arthur\", \"Muhammad\", \"Oscar\", \"Charlie\",\n",
        "    \"Olivia\", \"Amelia\", \"Isla\", \"Ava\", \"Emily\", \"Sophia\", \"Grace\", \"Mia\", \"Lily\", \"Freya\",\n",
        "    \"William\", \"Noah\", \"Liam\", \"James\", \"Oliver\", \"Benjamin\", \"Lucas\", \"Henry\", \"Alexander\", \"Mason\",\n",
        "    \"Emma\", \"Sophia\", \"Olivia\", \"Ava\", \"Isabella\", \"Mia\", \"Amelia\", \"Charlotte\", \"Harper\", \"Lily\",\n",
        "    \"Liam\", \"Noah\", \"Jackson\", \"Lucas\", \"Logan\", \"Jacob\", \"Oliver\", \"Ethan\", \"Aiden\", \"Caden\",\n",
        "    \"Sophia\", \"Emma\", \"Olivia\", \"Ava\", \"Isabella\", \"Mia\", \"Charlotte\", \"Amelia\", \"Harper\", \"Evelyn\",\n",
        "    \"George\", \"Arthur\", \"Harry\", \"Jack\", \"Freddie\", \"Oscar\", \"Thomas\", \"Charlie\", \"Leo\", \"Henry\",\n",
        "    \"Isabella\", \"Sophia\", \"Mia\", \"Charlotte\", \"Amelia\", \"Harper\", \"Evelyn\", \"Abigail\", \"Emily\", \"Lily\",\n",
        "    \"Mason\", \"Liam\", \"Noah\", \"Lucas\", \"Logan\", \"Oliver\", \"Ethan\", \"Caden\", \"Benjamin\", \"James\",\n",
        "    \"Emily\", \"Lily\", \"Amelia\", \"Sophia\", \"Olivia\", \"Ava\", \"Mia\", \"Isabella\", \"Charlotte\", \"Grace\",\n",
        "    \"MuhammadUsman\", \"Oliver\", \"Noah\", \"George\", \"Leo\", \"Jack\", \"Arthur\", \"Harry\", \"Muhammed\", \"Charlie\"\n",
        "]\n"
      ],
      "metadata": {
        "colab": {
          "base_uri": "https://localhost:8080/"
        },
        "id": "MgAneSpkf-Dt",
        "outputId": "ce8ddc16-1306-47bf-ec9d-cffafc958ebb"
      },
      "execution_count": 13,
      "outputs": [
        {
          "output_type": "stream",
          "name": "stderr",
          "text": [
            "<ipython-input-13-605cbc00e213>:2: UserWarning: pandas only supports SQLAlchemy connectable (engine/connection) or database string URI or sqlite3 DBAPI2 connection. Other DBAPI2 objects are not tested. Please consider using SQLAlchemy.\n",
            "  op_names = pd.read_sql_query(query, conn)\n"
          ]
        }
      ]
    },
    {
      "cell_type": "code",
      "source": [
        "op_names"
      ],
      "metadata": {
        "colab": {
          "base_uri": "https://localhost:8080/",
          "height": 331
        },
        "id": "JIcvTvJ_aGnm",
        "outputId": "531e9411-6f3f-4d1c-9214-9def6fa58824"
      },
      "execution_count": 14,
      "outputs": [
        {
          "output_type": "execute_result",
          "data": {
            "text/plain": [
              "            Op_Name\n",
              "0  ADILE ARASLANOVA\n",
              "1   ALEXANDRA VISAN\n",
              "2  ATIKE CHAVDAROVA\n",
              "3    CARMEN PATIERA\n",
              "4  IONELA BIMBIRICA\n",
              "5    MICHAELA MICHI\n",
              "6              SC 3\n",
              "7              SC 7\n",
              "8        TSVETELINA"
            ],
            "text/html": [
              "\n",
              "  <div id=\"df-437972ea-5aca-474a-9066-00c41f395aa6\">\n",
              "    <div class=\"colab-df-container\">\n",
              "      <div>\n",
              "<style scoped>\n",
              "    .dataframe tbody tr th:only-of-type {\n",
              "        vertical-align: middle;\n",
              "    }\n",
              "\n",
              "    .dataframe tbody tr th {\n",
              "        vertical-align: top;\n",
              "    }\n",
              "\n",
              "    .dataframe thead th {\n",
              "        text-align: right;\n",
              "    }\n",
              "</style>\n",
              "<table border=\"1\" class=\"dataframe\">\n",
              "  <thead>\n",
              "    <tr style=\"text-align: right;\">\n",
              "      <th></th>\n",
              "      <th>Op_Name</th>\n",
              "    </tr>\n",
              "  </thead>\n",
              "  <tbody>\n",
              "    <tr>\n",
              "      <th>0</th>\n",
              "      <td>ADILE ARASLANOVA</td>\n",
              "    </tr>\n",
              "    <tr>\n",
              "      <th>1</th>\n",
              "      <td>ALEXANDRA VISAN</td>\n",
              "    </tr>\n",
              "    <tr>\n",
              "      <th>2</th>\n",
              "      <td>ATIKE CHAVDAROVA</td>\n",
              "    </tr>\n",
              "    <tr>\n",
              "      <th>3</th>\n",
              "      <td>CARMEN PATIERA</td>\n",
              "    </tr>\n",
              "    <tr>\n",
              "      <th>4</th>\n",
              "      <td>IONELA BIMBIRICA</td>\n",
              "    </tr>\n",
              "    <tr>\n",
              "      <th>5</th>\n",
              "      <td>MICHAELA MICHI</td>\n",
              "    </tr>\n",
              "    <tr>\n",
              "      <th>6</th>\n",
              "      <td>SC 3</td>\n",
              "    </tr>\n",
              "    <tr>\n",
              "      <th>7</th>\n",
              "      <td>SC 7</td>\n",
              "    </tr>\n",
              "    <tr>\n",
              "      <th>8</th>\n",
              "      <td>TSVETELINA</td>\n",
              "    </tr>\n",
              "  </tbody>\n",
              "</table>\n",
              "</div>\n",
              "      <button class=\"colab-df-convert\" onclick=\"convertToInteractive('df-437972ea-5aca-474a-9066-00c41f395aa6')\"\n",
              "              title=\"Convert this dataframe to an interactive table.\"\n",
              "              style=\"display:none;\">\n",
              "        \n",
              "  <svg xmlns=\"http://www.w3.org/2000/svg\" height=\"24px\"viewBox=\"0 0 24 24\"\n",
              "       width=\"24px\">\n",
              "    <path d=\"M0 0h24v24H0V0z\" fill=\"none\"/>\n",
              "    <path d=\"M18.56 5.44l.94 2.06.94-2.06 2.06-.94-2.06-.94-.94-2.06-.94 2.06-2.06.94zm-11 1L8.5 8.5l.94-2.06 2.06-.94-2.06-.94L8.5 2.5l-.94 2.06-2.06.94zm10 10l.94 2.06.94-2.06 2.06-.94-2.06-.94-.94-2.06-.94 2.06-2.06.94z\"/><path d=\"M17.41 7.96l-1.37-1.37c-.4-.4-.92-.59-1.43-.59-.52 0-1.04.2-1.43.59L10.3 9.45l-7.72 7.72c-.78.78-.78 2.05 0 2.83L4 21.41c.39.39.9.59 1.41.59.51 0 1.02-.2 1.41-.59l7.78-7.78 2.81-2.81c.8-.78.8-2.07 0-2.86zM5.41 20L4 18.59l7.72-7.72 1.47 1.35L5.41 20z\"/>\n",
              "  </svg>\n",
              "      </button>\n",
              "      \n",
              "  <style>\n",
              "    .colab-df-container {\n",
              "      display:flex;\n",
              "      flex-wrap:wrap;\n",
              "      gap: 12px;\n",
              "    }\n",
              "\n",
              "    .colab-df-convert {\n",
              "      background-color: #E8F0FE;\n",
              "      border: none;\n",
              "      border-radius: 50%;\n",
              "      cursor: pointer;\n",
              "      display: none;\n",
              "      fill: #1967D2;\n",
              "      height: 32px;\n",
              "      padding: 0 0 0 0;\n",
              "      width: 32px;\n",
              "    }\n",
              "\n",
              "    .colab-df-convert:hover {\n",
              "      background-color: #E2EBFA;\n",
              "      box-shadow: 0px 1px 2px rgba(60, 64, 67, 0.3), 0px 1px 3px 1px rgba(60, 64, 67, 0.15);\n",
              "      fill: #174EA6;\n",
              "    }\n",
              "\n",
              "    [theme=dark] .colab-df-convert {\n",
              "      background-color: #3B4455;\n",
              "      fill: #D2E3FC;\n",
              "    }\n",
              "\n",
              "    [theme=dark] .colab-df-convert:hover {\n",
              "      background-color: #434B5C;\n",
              "      box-shadow: 0px 1px 3px 1px rgba(0, 0, 0, 0.15);\n",
              "      filter: drop-shadow(0px 1px 2px rgba(0, 0, 0, 0.3));\n",
              "      fill: #FFFFFF;\n",
              "    }\n",
              "  </style>\n",
              "\n",
              "      <script>\n",
              "        const buttonEl =\n",
              "          document.querySelector('#df-437972ea-5aca-474a-9066-00c41f395aa6 button.colab-df-convert');\n",
              "        buttonEl.style.display =\n",
              "          google.colab.kernel.accessAllowed ? 'block' : 'none';\n",
              "\n",
              "        async function convertToInteractive(key) {\n",
              "          const element = document.querySelector('#df-437972ea-5aca-474a-9066-00c41f395aa6');\n",
              "          const dataTable =\n",
              "            await google.colab.kernel.invokeFunction('convertToInteractive',\n",
              "                                                     [key], {});\n",
              "          if (!dataTable) return;\n",
              "\n",
              "          const docLinkHtml = 'Like what you see? Visit the ' +\n",
              "            '<a target=\"_blank\" href=https://colab.research.google.com/notebooks/data_table.ipynb>data table notebook</a>'\n",
              "            + ' to learn more about interactive tables.';\n",
              "          element.innerHTML = '';\n",
              "          dataTable['output_type'] = 'display_data';\n",
              "          await google.colab.output.renderOutput(dataTable, element);\n",
              "          const docLink = document.createElement('div');\n",
              "          docLink.innerHTML = docLinkHtml;\n",
              "          element.appendChild(docLink);\n",
              "        }\n",
              "      </script>\n",
              "    </div>\n",
              "  </div>\n",
              "  "
            ]
          },
          "metadata": {},
          "execution_count": 14
        }
      ]
    },
    {
      "cell_type": "code",
      "source": [
        "engine = sqlalchemy.create_engine(f'mysql+pymysql://{username}:{password}@{endpoint}/miweigh_db')\n",
        "\n",
        "# Insert the DataFrame into the SQL table\n",
        "table_name = 'operators_performances'  # Replace with your table name\n"
      ],
      "metadata": {
        "id": "IWDooTLMgJqe"
      },
      "execution_count": 15,
      "outputs": []
    },
    {
      "cell_type": "code",
      "source": [
        "name_dict = dict(zip(op_names.Op_Name, popular_names))"
      ],
      "metadata": {
        "id": "W9-cZ6RsQnkI"
      },
      "execution_count": 16,
      "outputs": []
    },
    {
      "cell_type": "code",
      "source": [
        "for prev_name in op_names.Op_Name:\n",
        "  # if prev_name == 'A Rafalska':\n",
        "  #   continue\n",
        "  # print(prev_name)\n",
        "  new_query = f\"SELECT * FROM operators_performances WHERE indexName = '{source_index}' AND Op_Name = '{prev_name}';\"\n",
        "  values = pd.read_sql_query(new_query, conn)\n",
        "  values.Op_Name = name_dict[prev_name]\n",
        "  values.indexName = destination_index\n",
        "  values['id'] =  values['id'].str.replace(prev_name, name_dict[prev_name])\n",
        "  values.to_sql(table_name, con=engine, if_exists='append', index=False)\n",
        "  \n",
        "engine.dispose()"
      ],
      "metadata": {
        "colab": {
          "base_uri": "https://localhost:8080/"
        },
        "id": "dCPsC7ujQuHw",
        "outputId": "f323c8e6-847b-4c1c-c3e2-84bf550b464d"
      },
      "execution_count": 17,
      "outputs": [
        {
          "output_type": "stream",
          "name": "stderr",
          "text": [
            "<ipython-input-17-8fbcea7623f6>:6: UserWarning: pandas only supports SQLAlchemy connectable (engine/connection) or database string URI or sqlite3 DBAPI2 connection. Other DBAPI2 objects are not tested. Please consider using SQLAlchemy.\n",
            "  values = pd.read_sql_query(new_query, conn)\n",
            "<ipython-input-17-8fbcea7623f6>:6: UserWarning: pandas only supports SQLAlchemy connectable (engine/connection) or database string URI or sqlite3 DBAPI2 connection. Other DBAPI2 objects are not tested. Please consider using SQLAlchemy.\n",
            "  values = pd.read_sql_query(new_query, conn)\n",
            "<ipython-input-17-8fbcea7623f6>:6: UserWarning: pandas only supports SQLAlchemy connectable (engine/connection) or database string URI or sqlite3 DBAPI2 connection. Other DBAPI2 objects are not tested. Please consider using SQLAlchemy.\n",
            "  values = pd.read_sql_query(new_query, conn)\n",
            "<ipython-input-17-8fbcea7623f6>:6: UserWarning: pandas only supports SQLAlchemy connectable (engine/connection) or database string URI or sqlite3 DBAPI2 connection. Other DBAPI2 objects are not tested. Please consider using SQLAlchemy.\n",
            "  values = pd.read_sql_query(new_query, conn)\n",
            "<ipython-input-17-8fbcea7623f6>:6: UserWarning: pandas only supports SQLAlchemy connectable (engine/connection) or database string URI or sqlite3 DBAPI2 connection. Other DBAPI2 objects are not tested. Please consider using SQLAlchemy.\n",
            "  values = pd.read_sql_query(new_query, conn)\n",
            "<ipython-input-17-8fbcea7623f6>:6: UserWarning: pandas only supports SQLAlchemy connectable (engine/connection) or database string URI or sqlite3 DBAPI2 connection. Other DBAPI2 objects are not tested. Please consider using SQLAlchemy.\n",
            "  values = pd.read_sql_query(new_query, conn)\n",
            "<ipython-input-17-8fbcea7623f6>:6: UserWarning: pandas only supports SQLAlchemy connectable (engine/connection) or database string URI or sqlite3 DBAPI2 connection. Other DBAPI2 objects are not tested. Please consider using SQLAlchemy.\n",
            "  values = pd.read_sql_query(new_query, conn)\n",
            "<ipython-input-17-8fbcea7623f6>:6: UserWarning: pandas only supports SQLAlchemy connectable (engine/connection) or database string URI or sqlite3 DBAPI2 connection. Other DBAPI2 objects are not tested. Please consider using SQLAlchemy.\n",
            "  values = pd.read_sql_query(new_query, conn)\n",
            "<ipython-input-17-8fbcea7623f6>:6: UserWarning: pandas only supports SQLAlchemy connectable (engine/connection) or database string URI or sqlite3 DBAPI2 connection. Other DBAPI2 objects are not tested. Please consider using SQLAlchemy.\n",
            "  values = pd.read_sql_query(new_query, conn)\n"
          ]
        }
      ]
    },
    {
      "cell_type": "code",
      "source": [],
      "metadata": {
        "id": "kK40fpKJgL-X"
      },
      "execution_count": null,
      "outputs": []
    }
  ]
}