{
  "nbformat": 4,
  "nbformat_minor": 0,
  "metadata": {
    "colab": {
      "provenance": []
    },
    "kernelspec": {
      "name": "python3",
      "display_name": "Python 3"
    },
    "language_info": {
      "name": "python"
    }
  },
  "cells": [
    {
      "cell_type": "markdown",
      "source": [
        "**The script is lightly test with demo index, more testing is needed before running as a Job and source index has to be finalised**"
      ],
      "metadata": {
        "id": "7dWGFIoA23Aw"
      }
    },
    {
      "cell_type": "code",
      "source": [
        "!pip install elasticsearch"
      ],
      "metadata": {
        "colab": {
          "base_uri": "https://localhost:8080/"
        },
        "id": "Ygj-VhPz0a1q",
        "outputId": "252efc33-b094-4db6-ad13-40262104c1a8"
      },
      "execution_count": 1,
      "outputs": [
        {
          "output_type": "stream",
          "name": "stdout",
          "text": [
            "Looking in indexes: https://pypi.org/simple, https://us-python.pkg.dev/colab-wheels/public/simple/\n",
            "Collecting elasticsearch\n",
            "  Downloading elasticsearch-8.7.0-py3-none-any.whl (387 kB)\n",
            "\u001b[2K     \u001b[90m━━━━━━━━━━━━━━━━━━━━━━━━━━━━━━━━━━━━━━\u001b[0m \u001b[32m387.9/387.9 kB\u001b[0m \u001b[31m11.6 MB/s\u001b[0m eta \u001b[36m0:00:00\u001b[0m\n",
            "\u001b[?25hCollecting elastic-transport<9,>=8 (from elasticsearch)\n",
            "  Downloading elastic_transport-8.4.0-py3-none-any.whl (59 kB)\n",
            "\u001b[2K     \u001b[90m━━━━━━━━━━━━━━━━━━━━━━━━━━━━━━━━━━━━━━━━\u001b[0m \u001b[32m59.5/59.5 kB\u001b[0m \u001b[31m6.8 MB/s\u001b[0m eta \u001b[36m0:00:00\u001b[0m\n",
            "\u001b[?25hRequirement already satisfied: urllib3<2,>=1.26.2 in /usr/local/lib/python3.10/dist-packages (from elastic-transport<9,>=8->elasticsearch) (1.26.15)\n",
            "Requirement already satisfied: certifi in /usr/local/lib/python3.10/dist-packages (from elastic-transport<9,>=8->elasticsearch) (2022.12.7)\n",
            "Installing collected packages: elastic-transport, elasticsearch\n",
            "Successfully installed elastic-transport-8.4.0 elasticsearch-8.7.0\n"
          ]
        }
      ]
    },
    {
      "cell_type": "code",
      "source": [
        "from datetime import datetime, timedelta\n",
        "from elasticsearch import Elasticsearch"
      ],
      "metadata": {
        "id": "YxH4CtwBxBzS"
      },
      "execution_count": 2,
      "outputs": []
    },
    {
      "cell_type": "code",
      "source": [
        "# Elasticsearch connection configuration\n",
        "es = Elasticsearch([\"http://35.177.112.190:9200\"], http_auth=(\"new_admin\", \"new_password\"))\n",
        "\n",
        "# Define the source and destination indices\n",
        "source_index = 'mw-index-ftfarms'\n",
        "destination_index = 'mw-index-demo'\n",
        "\n",
        "# Calculate the timestamp range for the last 24 hours\n",
        "end_time = datetime.now()\n",
        "start_time = end_time - timedelta(hours=24)"
      ],
      "metadata": {
        "colab": {
          "base_uri": "https://localhost:8080/"
        },
        "id": "X_llTiSh0O95",
        "outputId": "448ab346-d09a-40ce-ff03-2a2a05f2ff66"
      },
      "execution_count": 9,
      "outputs": [
        {
          "output_type": "stream",
          "name": "stderr",
          "text": [
            "<ipython-input-9-77eaf8dda1f2>:2: DeprecationWarning: The 'http_auth' parameter is deprecated. Use 'basic_auth' or 'bearer_auth' parameters instead\n",
            "  es = Elasticsearch([\"http://35.177.112.190:9200\"], http_auth=(\"new_admin\", \"new_password\"))\n"
          ]
        }
      ]
    },
    {
      "cell_type": "code",
      "source": [
        "def get_query():\n",
        "  query = {\n",
        "      \"query\": {\n",
        "          \"bool\": {\n",
        "              \"filter\": [\n",
        "                  {\"range\": {\"@timestamp\": {\"gte\": start_time, \"lte\": end_time}}},\n",
        "              ]\n",
        "          }\n",
        "      },\n",
        "      \"size\": 1000  # Adjust the batch size as per your needs\n",
        "  }\n",
        "  return query"
      ],
      "metadata": {
        "id": "z271jmqOxbqj"
      },
      "execution_count": 10,
      "outputs": []
    },
    {
      "cell_type": "code",
      "source": [
        "def anonymise_and_push(scroll_results):\n",
        "  scroll_id = scroll_results['_scroll_id']\n",
        "\n",
        "  while len(scroll_results['hits']['hits']) > 0:\n",
        "      # Process each document and update the 'Recipe' field\n",
        "      for hit in scroll_results['hits']['hits']:\n",
        "          document_id = hit['_id']\n",
        "          document_source = hit['_source']\n",
        "          \n",
        "          # Update the 'Recipe' field\n",
        "          if document_source['FLAG'] == 'START' or document_source['FLAG'] == 'END':\n",
        "            document_source['Recipe'] = 'PAL-Demo-'+document_source['Recipe']\n",
        "            document_source['Line_Leader'] = 'PAL-Demo-'+document_source['Line_Leader']\n",
        "\n",
        "          elif document_source['FLAG'] == 'SCALE':\n",
        "            document_source['Op_Name'] = 'PAL-Demo-'+document_source['Op_Name']\n",
        "          \n",
        "          ## what fields to change and when to change has to be discussed first\n",
        "\n",
        "          # Push the updated document to the destination index\n",
        "          es.index(index=destination_index, id=document_id, body=document_source)\n",
        "      \n",
        "      # Scroll to the next batch of results\n",
        "      scroll_results = es.scroll(scroll_id=scroll_id, scroll='1m')\n",
        "      scroll_id = scroll_results['_scroll_id']\n",
        "\n",
        "  # Clear the scroll context\n",
        "  es.clear_scroll(scroll_id=scroll_id)\n"
      ],
      "metadata": {
        "id": "xlcuXU2zxBwV"
      },
      "execution_count": 11,
      "outputs": []
    },
    {
      "cell_type": "code",
      "execution_count": 12,
      "metadata": {
        "colab": {
          "base_uri": "https://localhost:8080/",
          "height": 505
        },
        "id": "QX_E2QNfw65S",
        "outputId": "b5b29638-769f-4d83-be86-6801a267e83d"
      },
      "outputs": [
        {
          "output_type": "stream",
          "name": "stderr",
          "text": [
            "<ipython-input-12-ea8a84421e0f>:6: DeprecationWarning: The 'body' parameter is deprecated and will be removed in a future version. Instead use individual parameters.\n",
            "  scroll_results = es.search(index=source_index, body=query, scroll='1m')\n",
            "<ipython-input-12-ea8a84421e0f>:6: ElasticsearchWarning: Elasticsearch built-in security features are not enabled. Without authentication, your cluster could be accessible to anyone. See https://www.elastic.co/guide/en/elasticsearch/reference/7.17/security-minimal-setup.html to enable security.\n",
            "  scroll_results = es.search(index=source_index, body=query, scroll='1m')\n",
            "<ipython-input-11-c583cb38c635>:21: DeprecationWarning: The 'body' parameter is deprecated and will be removed in a future version. Instead use the 'document' parameter. See https://github.com/elastic/elasticsearch-py/issues/1698 for more information\n",
            "  es.index(index=destination_index, id=document_id, body=document_source)\n",
            "<ipython-input-11-c583cb38c635>:21: ElasticsearchWarning: Elasticsearch built-in security features are not enabled. Without authentication, your cluster could be accessible to anyone. See https://www.elastic.co/guide/en/elasticsearch/reference/7.17/security-minimal-setup.html to enable security.\n",
            "  es.index(index=destination_index, id=document_id, body=document_source)\n"
          ]
        },
        {
          "output_type": "error",
          "ename": "NotFoundError",
          "evalue": "ignored",
          "traceback": [
            "\u001b[0;31m---------------------------------------------------------------------------\u001b[0m",
            "\u001b[0;31mNotFoundError\u001b[0m                             Traceback (most recent call last)",
            "\u001b[0;32m<ipython-input-12-ea8a84421e0f>\u001b[0m in \u001b[0;36m<cell line: 8>\u001b[0;34m()\u001b[0m\n\u001b[1;32m      6\u001b[0m \u001b[0mscroll_results\u001b[0m \u001b[0;34m=\u001b[0m \u001b[0mes\u001b[0m\u001b[0;34m.\u001b[0m\u001b[0msearch\u001b[0m\u001b[0;34m(\u001b[0m\u001b[0mindex\u001b[0m\u001b[0;34m=\u001b[0m\u001b[0msource_index\u001b[0m\u001b[0;34m,\u001b[0m \u001b[0mbody\u001b[0m\u001b[0;34m=\u001b[0m\u001b[0mquery\u001b[0m\u001b[0;34m,\u001b[0m \u001b[0mscroll\u001b[0m\u001b[0;34m=\u001b[0m\u001b[0;34m'1m'\u001b[0m\u001b[0;34m)\u001b[0m\u001b[0;34m\u001b[0m\u001b[0;34m\u001b[0m\u001b[0m\n\u001b[1;32m      7\u001b[0m \u001b[0;34m\u001b[0m\u001b[0m\n\u001b[0;32m----> 8\u001b[0;31m \u001b[0mann_results\u001b[0m \u001b[0;34m=\u001b[0m \u001b[0manonymise_and_push\u001b[0m\u001b[0;34m(\u001b[0m\u001b[0mscroll_results\u001b[0m\u001b[0;34m)\u001b[0m\u001b[0;34m\u001b[0m\u001b[0;34m\u001b[0m\u001b[0m\n\u001b[0m",
            "\u001b[0;32m<ipython-input-11-c583cb38c635>\u001b[0m in \u001b[0;36manonymise_and_push\u001b[0;34m(scroll_results)\u001b[0m\n\u001b[1;32m     22\u001b[0m \u001b[0;34m\u001b[0m\u001b[0m\n\u001b[1;32m     23\u001b[0m       \u001b[0;31m# Scroll to the next batch of results\u001b[0m\u001b[0;34m\u001b[0m\u001b[0;34m\u001b[0m\u001b[0m\n\u001b[0;32m---> 24\u001b[0;31m       \u001b[0mscroll_results\u001b[0m \u001b[0;34m=\u001b[0m \u001b[0mes\u001b[0m\u001b[0;34m.\u001b[0m\u001b[0mscroll\u001b[0m\u001b[0;34m(\u001b[0m\u001b[0mscroll_id\u001b[0m\u001b[0;34m=\u001b[0m\u001b[0mscroll_id\u001b[0m\u001b[0;34m,\u001b[0m \u001b[0mscroll\u001b[0m\u001b[0;34m=\u001b[0m\u001b[0;34m'1m'\u001b[0m\u001b[0;34m)\u001b[0m\u001b[0;34m\u001b[0m\u001b[0;34m\u001b[0m\u001b[0m\n\u001b[0m\u001b[1;32m     25\u001b[0m       \u001b[0mscroll_id\u001b[0m \u001b[0;34m=\u001b[0m \u001b[0mscroll_results\u001b[0m\u001b[0;34m[\u001b[0m\u001b[0;34m'_scroll_id'\u001b[0m\u001b[0;34m]\u001b[0m\u001b[0;34m\u001b[0m\u001b[0;34m\u001b[0m\u001b[0m\n\u001b[1;32m     26\u001b[0m \u001b[0;34m\u001b[0m\u001b[0m\n",
            "\u001b[0;32m/usr/local/lib/python3.10/dist-packages/elasticsearch/_sync/client/utils.py\u001b[0m in \u001b[0;36mwrapped\u001b[0;34m(*args, **kwargs)\u001b[0m\n\u001b[1;32m    412\u001b[0m                         \u001b[0;32mpass\u001b[0m\u001b[0;34m\u001b[0m\u001b[0;34m\u001b[0m\u001b[0m\n\u001b[1;32m    413\u001b[0m \u001b[0;34m\u001b[0m\u001b[0m\n\u001b[0;32m--> 414\u001b[0;31m             \u001b[0;32mreturn\u001b[0m \u001b[0mapi\u001b[0m\u001b[0;34m(\u001b[0m\u001b[0;34m*\u001b[0m\u001b[0margs\u001b[0m\u001b[0;34m,\u001b[0m \u001b[0;34m**\u001b[0m\u001b[0mkwargs\u001b[0m\u001b[0;34m)\u001b[0m\u001b[0;34m\u001b[0m\u001b[0;34m\u001b[0m\u001b[0m\n\u001b[0m\u001b[1;32m    415\u001b[0m \u001b[0;34m\u001b[0m\u001b[0m\n\u001b[1;32m    416\u001b[0m         \u001b[0;32mreturn\u001b[0m \u001b[0mwrapped\u001b[0m  \u001b[0;31m# type: ignore[return-value]\u001b[0m\u001b[0;34m\u001b[0m\u001b[0;34m\u001b[0m\u001b[0m\n",
            "\u001b[0;32m/usr/local/lib/python3.10/dist-packages/elasticsearch/_sync/client/__init__.py\u001b[0m in \u001b[0;36mscroll\u001b[0;34m(self, scroll_id, error_trace, filter_path, human, pretty, rest_total_hits_as_int, scroll)\u001b[0m\n\u001b[1;32m   3426\u001b[0m         \u001b[0;32mif\u001b[0m \u001b[0m__body\u001b[0m \u001b[0;32mis\u001b[0m \u001b[0;32mnot\u001b[0m \u001b[0;32mNone\u001b[0m\u001b[0;34m:\u001b[0m\u001b[0;34m\u001b[0m\u001b[0;34m\u001b[0m\u001b[0m\n\u001b[1;32m   3427\u001b[0m             \u001b[0m__headers\u001b[0m\u001b[0;34m[\u001b[0m\u001b[0;34m\"content-type\"\u001b[0m\u001b[0;34m]\u001b[0m \u001b[0;34m=\u001b[0m \u001b[0;34m\"application/json\"\u001b[0m\u001b[0;34m\u001b[0m\u001b[0;34m\u001b[0m\u001b[0m\n\u001b[0;32m-> 3428\u001b[0;31m         return self.perform_request(  # type: ignore[return-value]\n\u001b[0m\u001b[1;32m   3429\u001b[0m             \u001b[0;34m\"POST\"\u001b[0m\u001b[0;34m,\u001b[0m \u001b[0m__path\u001b[0m\u001b[0;34m,\u001b[0m \u001b[0mparams\u001b[0m\u001b[0;34m=\u001b[0m\u001b[0m__query\u001b[0m\u001b[0;34m,\u001b[0m \u001b[0mheaders\u001b[0m\u001b[0;34m=\u001b[0m\u001b[0m__headers\u001b[0m\u001b[0;34m,\u001b[0m \u001b[0mbody\u001b[0m\u001b[0;34m=\u001b[0m\u001b[0m__body\u001b[0m\u001b[0;34m\u001b[0m\u001b[0;34m\u001b[0m\u001b[0m\n\u001b[1;32m   3430\u001b[0m         )\n",
            "\u001b[0;32m/usr/local/lib/python3.10/dist-packages/elasticsearch/_sync/client/_base.py\u001b[0m in \u001b[0;36mperform_request\u001b[0;34m(self, method, path, params, headers, body)\u001b[0m\n\u001b[1;32m    318\u001b[0m                     \u001b[0;32mpass\u001b[0m\u001b[0;34m\u001b[0m\u001b[0;34m\u001b[0m\u001b[0m\n\u001b[1;32m    319\u001b[0m \u001b[0;34m\u001b[0m\u001b[0m\n\u001b[0;32m--> 320\u001b[0;31m             raise HTTP_EXCEPTIONS.get(meta.status, ApiError)(\n\u001b[0m\u001b[1;32m    321\u001b[0m                 \u001b[0mmessage\u001b[0m\u001b[0;34m=\u001b[0m\u001b[0mmessage\u001b[0m\u001b[0;34m,\u001b[0m \u001b[0mmeta\u001b[0m\u001b[0;34m=\u001b[0m\u001b[0mmeta\u001b[0m\u001b[0;34m,\u001b[0m \u001b[0mbody\u001b[0m\u001b[0;34m=\u001b[0m\u001b[0mresp_body\u001b[0m\u001b[0;34m\u001b[0m\u001b[0;34m\u001b[0m\u001b[0m\n\u001b[1;32m    322\u001b[0m             )\n",
            "\u001b[0;31mNotFoundError\u001b[0m: NotFoundError(404, 'search_phase_execution_exception', 'No search context found for id [65569]')"
          ]
        }
      ],
      "source": [
        "# Elasticsearch query to retrieve documents within the specified timestamp range\n",
        "\n",
        "query = get_query()\n",
        "\n",
        "# Scroll through the search results and update the 'Recipe' field\n",
        "scroll_results = es.search(index=source_index, body=query, scroll='1m')\n",
        "\n",
        "ann_results = anonymise_and_push(scroll_results)"
      ]
    },
    {
      "cell_type": "code",
      "source": [],
      "metadata": {
        "id": "KMu2ZlfLxB2H"
      },
      "execution_count": null,
      "outputs": []
    },
    {
      "cell_type": "code",
      "source": [],
      "metadata": {
        "id": "g4SxifDixB48"
      },
      "execution_count": null,
      "outputs": []
    },
    {
      "cell_type": "code",
      "source": [],
      "metadata": {
        "id": "Q9mJtB9WxB7q"
      },
      "execution_count": null,
      "outputs": []
    }
  ]
}